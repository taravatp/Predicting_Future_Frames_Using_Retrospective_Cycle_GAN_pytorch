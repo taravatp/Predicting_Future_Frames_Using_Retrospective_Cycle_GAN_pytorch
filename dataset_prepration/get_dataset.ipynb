{
  "nbformat": 4,
  "nbformat_minor": 0,
  "metadata": {
    "colab": {
      "name": "get_dataset.ipynb",
      "provenance": [],
      "collapsed_sections": [],
      "include_colab_link": true
    },
    "kernelspec": {
      "name": "python3",
      "display_name": "Python 3"
    },
    "language_info": {
      "name": "python"
    },
    "gpuClass": "standard"
  },
  "cells": [
    {
      "cell_type": "markdown",
      "metadata": {
        "id": "view-in-github",
        "colab_type": "text"
      },
      "source": [
        "<a href=\"https://colab.research.google.com/github/taravatp/Predicting_Future_Frames_Using_Retrospective_Cycle_GAN_pytorch/blob/main/dataset_prepration/get_dataset.ipynb\" target=\"_parent\"><img src=\"https://colab.research.google.com/assets/colab-badge.svg\" alt=\"Open In Colab\"/></a>"
      ]
    },
    {
      "cell_type": "code",
      "source": [
        "from google.colab import drive\n",
        "drive.mount('/content/drive')"
      ],
      "metadata": {
        "colab": {
          "base_uri": "https://localhost:8080/"
        },
        "id": "da3QXAdv2Mut",
        "outputId": "0f40aed9-026d-42a0-b04e-0bd10d4e2e74"
      },
      "execution_count": null,
      "outputs": [
        {
          "output_type": "stream",
          "name": "stdout",
          "text": [
            "Mounted at /content/drive\n"
          ]
        }
      ]
    },
    {
      "cell_type": "code",
      "source": [
        "cd /content/drive/MyDrive/retrospective cycle GAN"
      ],
      "metadata": {
        "colab": {
          "base_uri": "https://localhost:8080/"
        },
        "id": "1UUcXkI0HdGI",
        "outputId": "b0d8eb5d-d133-47bf-fceb-dc3e42aaa720"
      },
      "execution_count": null,
      "outputs": [
        {
          "output_type": "stream",
          "name": "stdout",
          "text": [
            "/content/drive/MyDrive/retrospective cycle GAN\n"
          ]
        }
      ]
    },
    {
      "cell_type": "markdown",
      "source": [
        "# Downloading and Storing the Video Data"
      ],
      "metadata": {
        "id": "V56PVOesUuPJ"
      }
    },
    {
      "cell_type": "code",
      "source": [
        "!wget --no-check-certificate  'https://www.crcv.ucf.edu/data/UCF101/UCF101.rar'"
      ],
      "metadata": {
        "id": "2ONG5Xtr2Y8N",
        "colab": {
          "base_uri": "https://localhost:8080/"
        },
        "outputId": "5fac1ef8-149d-4a09-fb9a-324d20a70880"
      },
      "execution_count": null,
      "outputs": [
        {
          "output_type": "stream",
          "name": "stdout",
          "text": [
            "--2022-07-09 07:08:18--  https://www.crcv.ucf.edu/data/UCF101/UCF101.rar\n",
            "Resolving www.crcv.ucf.edu (www.crcv.ucf.edu)... 132.170.214.127\n",
            "Connecting to www.crcv.ucf.edu (www.crcv.ucf.edu)|132.170.214.127|:443... connected.\n",
            "WARNING: cannot verify www.crcv.ucf.edu's certificate, issued by ‘CN=InCommon RSA Server CA,OU=InCommon,O=Internet2,L=Ann Arbor,ST=MI,C=US’:\n",
            "  Unable to locally verify the issuer's authority.\n",
            "HTTP request sent, awaiting response... 200 OK\n",
            "Length: 6932971618 (6.5G) [application/rar]\n",
            "Saving to: ‘UCF101.rar’\n",
            "\n",
            "UCF101.rar          100%[===================>]   6.46G  34.1MB/s    in 1m 43s  \n",
            "\n",
            "2022-07-09 07:10:01 (64.3 MB/s) - ‘UCF101.rar’ saved [6932971618/6932971618]\n",
            "\n"
          ]
        }
      ]
    },
    {
      "cell_type": "code",
      "source": [
        "!unrar x UCF101.rar \"/content/drive/MyDrive/retrospective cycle GAN/\""
      ],
      "metadata": {
        "id": "xicO9RoC7Bnq"
      },
      "execution_count": null,
      "outputs": []
    },
    {
      "cell_type": "code",
      "source": [
        "import os \n",
        "import glob\n",
        "import shutil"
      ],
      "metadata": {
        "id": "fusXAL4Px1M7"
      },
      "execution_count": null,
      "outputs": []
    },
    {
      "cell_type": "code",
      "source": [
        "folder_dir = '/content/drive/MyDrive/retrospective cycle GAN/UCF-101/vid_data'\n",
        "os.makedirs(folder_dir)"
      ],
      "metadata": {
        "id": "b7stfLcx3JBg"
      },
      "execution_count": null,
      "outputs": []
    },
    {
      "cell_type": "code",
      "source": [
        "#moving all the data in this directory to a new folder: UCF-101/vid_data\n",
        "my_path = r'/content/drive/MyDrive/retrospective cycle GAN/UCF-101'\n",
        "files = glob.glob(my_path + r'/*', recursive=True) \n",
        "for vidfolder in files:\n",
        "  destination_path = vidfolder.split('/')\n",
        "  destination_path[0] = '/'\n",
        "  destination_path[-1] = 'vid_data'\n",
        "  destination_path = os.path.join(*destination_path)\n",
        "  shutil.move(vidfolder,destination_path)"
      ],
      "metadata": {
        "id": "APguxpkSkAcz"
      },
      "execution_count": null,
      "outputs": []
    },
    {
      "cell_type": "code",
      "source": [
        "my_path = r'/content/drive/MyDrive/retrospective cycle GAN/UCF-101/vid_data'\n",
        "files = glob.glob(my_path + r'/*', recursive=True) "
      ],
      "metadata": {
        "id": "YZTSmKcoygnB"
      },
      "execution_count": null,
      "outputs": []
    },
    {
      "cell_type": "code",
      "source": [
        "print(len(files))"
      ],
      "metadata": {
        "colab": {
          "base_uri": "https://localhost:8080/"
        },
        "id": "bMyI3fzpymcO",
        "outputId": "6739cf23-7572-4886-cd8c-0bdaad439d8b"
      },
      "execution_count": null,
      "outputs": [
        {
          "output_type": "stream",
          "name": "stdout",
          "text": [
            "101\n"
          ]
        }
      ]
    },
    {
      "cell_type": "markdown",
      "source": [
        "# Converting video Data to Image data"
      ],
      "metadata": {
        "id": "Eg9OiZpnU1cP"
      }
    },
    {
      "cell_type": "code",
      "source": [
        "!pip install ffmpeg"
      ],
      "metadata": {
        "id": "BOhy3ERpcQ0T"
      },
      "execution_count": null,
      "outputs": []
    },
    {
      "cell_type": "code",
      "source": [
        "import ffmpeg"
      ],
      "metadata": {
        "id": "qQk6qsREcZij"
      },
      "execution_count": null,
      "outputs": []
    },
    {
      "cell_type": "code",
      "source": [
        "!python image_extractor.py\n",
        "#kheili dare zaman bar mishe - mitooni rooye 50ta class faghat kar koni ama ba frame rate e bala"
      ],
      "metadata": {
        "id": "122pWgTbkFFO"
      },
      "execution_count": null,
      "outputs": []
    },
    {
      "cell_type": "code",
      "source": [
        "#tutorial for ffmpeg: https://web.archive.org/web/20130118060805/http://www.techskater.com/random/extracting-video-frame-at-specific-time-using-ffmpeg/"
      ],
      "metadata": {
        "id": "MG2lTIIbkhbZ"
      },
      "execution_count": null,
      "outputs": []
    }
  ]
}